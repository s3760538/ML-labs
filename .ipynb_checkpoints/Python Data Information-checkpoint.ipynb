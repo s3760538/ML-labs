{
 "cells": [
  {
   "cell_type": "markdown",
   "metadata": {},
   "source": [
    "VARIABLES"
   ]
  },
  {
   "cell_type": "code",
   "execution_count": 5,
   "metadata": {},
   "outputs": [
    {
     "name": "stdout",
     "output_type": "stream",
     "text": [
      "Vale of x =  2\n",
      "The variable type of x =  <class 'int'>\n"
     ]
    }
   ],
   "source": [
    "# INTEGER -don't need to initialise type\n",
    "x = 2\n",
    "print('Value of int x = ', x)\n",
    "print('The variable type of x = ', type(x))"
   ]
  },
  {
   "cell_type": "code",
   "execution_count": 6,
   "metadata": {},
   "outputs": [
    {
     "name": "stdout",
     "output_type": "stream",
     "text": [
      "Value of the double y =  2.5\n",
      "The variable type of y =  <class 'float'>\n"
     ]
    }
   ],
   "source": [
    "#FINAL / DOUBLE\n",
    "y = 2.5\n",
    "print('Value of double y = ', y)\n",
    "print('The variable type of y = ', type(y))\n"
   ]
  },
  {
   "cell_type": "code",
   "execution_count": 9,
   "metadata": {},
   "outputs": [
    {
     "name": "stdout",
     "output_type": "stream",
     "text": [
      "The string of a is:  hello\n",
      "The variable type of a is:  <class 'str'>\n"
     ]
    }
   ],
   "source": [
    "#STRING \n",
    "s = 'hello'\n",
    "print('The string of a is: ', s)\n",
    "print('The variable type of a is: ', type(s))\n"
   ]
  },
  {
   "cell_type": "code",
   "execution_count": 2,
   "metadata": {},
   "outputs": [
    {
     "name": "stdout",
     "output_type": "stream",
     "text": [
      "m:  True\n",
      "n:  False\n"
     ]
    }
   ],
   "source": [
    "#BOOLEAN\n",
    "m = True\n",
    "n = False\n",
    "print(\"m: \", m)\n",
    "print(\"n: \", n)\n"
   ]
  },
  {
   "cell_type": "markdown",
   "metadata": {},
   "source": [
    "---"
   ]
  },
  {
   "cell_type": "markdown",
   "metadata": {},
   "source": [
    "ARITHMETICS"
   ]
  },
  {
   "cell_type": "code",
   "execution_count": 4,
   "metadata": {},
   "outputs": [],
   "source": [
    "#initialise numbers\n",
    "a = 1\n",
    "b = 2\n",
    "c = 3\n"
   ]
  },
  {
   "cell_type": "code",
   "execution_count": 9,
   "metadata": {},
   "outputs": [
    {
     "name": "stdout",
     "output_type": "stream",
     "text": [
      "a + b =  3\n",
      "a - b =  -1\n",
      "a/b =  0.5\n",
      "b times c =  6\n",
      "b^c =  8\n"
     ]
    }
   ],
   "source": [
    "#addition\n",
    "print('a + b = ', a + b)\n",
    "#subtraction\n",
    "print('a - b = ', a - b)\n",
    "#division\n",
    "print('a/b = ', a/b)\n",
    "#multiplication\n",
    "print('b times c = ', b*c)\n",
    "#power to\n",
    "print('b^c = ', b**c)\n"
   ]
  },
  {
   "cell_type": "code",
   "execution_count": null,
   "metadata": {},
   "outputs": [],
   "source": []
  }
 ],
 "metadata": {
  "kernelspec": {
   "display_name": "Python 3",
   "language": "python",
   "name": "python3"
  },
  "language_info": {
   "codemirror_mode": {
    "name": "ipython",
    "version": 3
   },
   "file_extension": ".py",
   "mimetype": "text/x-python",
   "name": "python",
   "nbconvert_exporter": "python",
   "pygments_lexer": "ipython3",
   "version": "3.7.4"
  }
 },
 "nbformat": 4,
 "nbformat_minor": 2
}
